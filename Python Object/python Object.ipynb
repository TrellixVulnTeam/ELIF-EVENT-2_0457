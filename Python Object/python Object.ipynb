{
 "cells": [
  {
   "cell_type": "code",
   "execution_count": null,
   "metadata": {},
   "outputs": [
    {
     "data": {
      "text/html": [
       "<img src=\"python.png\" width=\"400\" height=\"100\"/>"
      ],
      "text/plain": [
       "<IPython.core.display.Image object>"
      ]
     },
     "execution_count": 1,
     "metadata": {},
     "output_type": "execute_result"
    }
   ],
   "source": [
    "#Python LOGO\n",
    "from IPython.display import Image\n",
    "Image(url= \"python.png\", width=400, height=100)"
   ]
  },
  {
   "cell_type": "markdown",
   "metadata": {},
   "source": [
    "# NUMBERS\n"
   ]
  },
  {
   "cell_type": "code",
   "execution_count": 23,
   "metadata": {},
   "outputs": [
    {
     "name": "stdout",
     "output_type": "stream",
     "text": [
      "2\n"
     ]
    }
   ],
   "source": [
    "a=2\n",
    "print(a)\n",
    "#type(a)\n",
    "#2+2\n",
    "#2*9"
   ]
  },
  {
   "cell_type": "markdown",
   "metadata": {},
   "source": [
    "# TUPLE\n"
   ]
  },
  {
   "cell_type": "code",
   "execution_count": 26,
   "metadata": {},
   "outputs": [
    {
     "ename": "TypeError",
     "evalue": "'tuple' object does not support item assignment",
     "output_type": "error",
     "traceback": [
      "\u001b[1;31m---------------------------------------------------------------------------\u001b[0m",
      "\u001b[1;31mTypeError\u001b[0m                                 Traceback (most recent call last)",
      "\u001b[1;32m<ipython-input-26-336682c47278>\u001b[0m in \u001b[0;36m<module>\u001b[1;34m\u001b[0m\n\u001b[0;32m      1\u001b[0m \u001b[0mTuple\u001b[0m\u001b[1;33m=\u001b[0m \u001b[1;36m2\u001b[0m\u001b[1;33m,\u001b[0m \u001b[1;36m6\u001b[0m \u001b[1;33m,\u001b[0m \u001b[1;36m7\u001b[0m \u001b[1;33m,\u001b[0m \u001b[1;34m'STRING'\u001b[0m\u001b[1;33m\u001b[0m\u001b[1;33m\u001b[0m\u001b[0m\n\u001b[0;32m      2\u001b[0m \u001b[0mtype\u001b[0m\u001b[1;33m(\u001b[0m\u001b[0mTuple\u001b[0m\u001b[1;33m)\u001b[0m\u001b[1;33m\u001b[0m\u001b[1;33m\u001b[0m\u001b[0m\n\u001b[1;32m----> 3\u001b[1;33m \u001b[0mTuple\u001b[0m\u001b[1;33m[\u001b[0m\u001b[1;36m0\u001b[0m\u001b[1;33m]\u001b[0m\u001b[1;33m=\u001b[0m\u001b[1;36m6\u001b[0m\u001b[1;33m\u001b[0m\u001b[1;33m\u001b[0m\u001b[0m\n\u001b[0m",
      "\u001b[1;31mTypeError\u001b[0m: 'tuple' object does not support item assignment"
     ]
    }
   ],
   "source": [
    "Tuple= 2, 6 , 7 ,'STRING'\n",
    "type(Tuple)\n",
    "Tuple[0]=6\n",
    "#its not Mutable( changable )"
   ]
  },
  {
   "cell_type": "markdown",
   "metadata": {},
   "source": [
    "# List "
   ]
  },
  {
   "cell_type": "code",
   "execution_count": 27,
   "metadata": {},
   "outputs": [],
   "source": [
    "List=[5 , 7 , 8 ]\n",
    "List[0]=8"
   ]
  },
  {
   "cell_type": "code",
   "execution_count": 28,
   "metadata": {},
   "outputs": [
    {
     "name": "stdout",
     "output_type": "stream",
     "text": [
      "[8, 7, 8]\n"
     ]
    }
   ],
   "source": [
    "print(List)"
   ]
  },
  {
   "cell_type": "code",
   "execution_count": 29,
   "metadata": {},
   "outputs": [
    {
     "data": {
      "text/plain": [
       "3"
      ]
     },
     "execution_count": 29,
     "metadata": {},
     "output_type": "execute_result"
    }
   ],
   "source": [
    "len(List)"
   ]
  },
  {
   "cell_type": "code",
   "execution_count": 30,
   "metadata": {},
   "outputs": [
    {
     "name": "stdout",
     "output_type": "stream",
     "text": [
      "[8, 7, 8, 101]\n"
     ]
    }
   ],
   "source": [
    "List.append(101)\n",
    "print(List)"
   ]
  },
  {
   "cell_type": "code",
   "execution_count": 33,
   "metadata": {},
   "outputs": [
    {
     "name": "stdout",
     "output_type": "stream",
     "text": [
      "The index == 0  and List[i]== 8\n",
      "The index == 1  and List[i]== 7\n",
      "The index == 2  and List[i]== 8\n",
      "The index == 3  and List[i]== 101\n"
     ]
    }
   ],
   "source": [
    "for i in range(len(List)):\n",
    "    print(f\"The index == {i}  and List[i]== {List[i]}\")"
   ]
  },
  {
   "cell_type": "markdown",
   "metadata": {},
   "source": [
    "# STRING "
   ]
  },
  {
   "cell_type": "code",
   "execution_count": 34,
   "metadata": {},
   "outputs": [],
   "source": [
    "string= str(a)"
   ]
  },
  {
   "cell_type": "code",
   "execution_count": 36,
   "metadata": {},
   "outputs": [
    {
     "name": "stdout",
     "output_type": "stream",
     "text": [
      "<class 'str'>\n"
     ]
    }
   ],
   "source": [
    "print(type(string))"
   ]
  },
  {
   "cell_type": "code",
   "execution_count": 37,
   "metadata": {},
   "outputs": [
    {
     "data": {
      "text/plain": [
       "'[8, 7, 8, 101]'"
      ]
     },
     "execution_count": 37,
     "metadata": {},
     "output_type": "execute_result"
    }
   ],
   "source": [
    "str(List)"
   ]
  },
  {
   "cell_type": "code",
   "execution_count": 56,
   "metadata": {},
   "outputs": [
    {
     "data": {
      "text/plain": [
       "' Hi Hi to all My Students'"
      ]
     },
     "execution_count": 56,
     "metadata": {},
     "output_type": "execute_result"
    }
   ],
   "source": [
    "s=\" HELLO HELLO to all My Students\"\n",
    "s.upper()\n",
    "s.lower()\n",
    "s.split('all')\n",
    "s.replace('HELLO' , 'Hi' , -1)"
   ]
  },
  {
   "cell_type": "code",
   "execution_count": 67,
   "metadata": {},
   "outputs": [
    {
     "name": "stdout",
     "output_type": "stream",
     "text": [
      "['taghoutighofrane94@gmail.com', 'ELIFE@yahoo.com']\n"
     ]
    }
   ],
   "source": [
    "import re \n",
    "# Example string \n",
    "s = \"\"\"Hello from taghoutighofrane94@gmail.com\n",
    "        to ELIFE@yahoo.com about PYTHON IN YOUR POCKET EVENT\"\"\"\n",
    "  \n",
    "# \\S matches any non-whitespace character \n",
    "# @ for as in the Email \n",
    "# + for Repeats a character one or more times \n",
    "lst = re.findall('\\S+@\\S+', s)     \n",
    "  \n",
    "# Printing of List \n",
    "print(lst) "
   ]
  },
  {
   "cell_type": "code",
   "execution_count": 68,
   "metadata": {},
   "outputs": [],
   "source": [
    "with open ('File_TEXT.txt' , 'w') as f :\n",
    "    f.write(s)"
   ]
  },
  {
   "cell_type": "markdown",
   "metadata": {},
   "source": [
    "# READ AND WRITE FILES"
   ]
  },
  {
   "cell_type": "code",
   "execution_count": 98,
   "metadata": {},
   "outputs": [],
   "source": [
    "LIST_String=[]"
   ]
  },
  {
   "cell_type": "code",
   "execution_count": 104,
   "metadata": {},
   "outputs": [
    {
     "name": "stdout",
     "output_type": "stream",
     "text": [
      "Jack  is  dancing\n"
     ]
    }
   ],
   "source": [
    "import random\n",
    "names=[\"We\",\"I\",\"They\",\"He\",\"She\",\"Jack\",\"Jim\"]\n",
    "verbs=[\"was\",\"is\",\"are\",\"were\"]\n",
    "nouns=[\"playing a game\",\"watching television\",\"talking\",\"dancing\",\"speaking\"]\n",
    "while True:#while True signifie boucle pour toujours)\n",
    "    a=(random.choice(names))\n",
    "    b=(random.choice(verbs))\n",
    "    c=(random.choice(nouns))\n",
    "    String=a+\" \"+b+\" \"+c\n",
    "    LIST_String.append(String)\n",
    "    \n",
    "    print(a+\" \",b+\" \",c)\n",
    "    break"
   ]
  },
  {
   "cell_type": "code",
   "execution_count": 105,
   "metadata": {},
   "outputs": [
    {
     "name": "stdout",
     "output_type": "stream",
     "text": [
      "['They were playing a game', 'I are playing a game', 'Jack were talking', 'I were talking', 'Jack is dancing']\n"
     ]
    }
   ],
   "source": [
    "print(LIST_String)"
   ]
  },
  {
   "cell_type": "code",
   "execution_count": 109,
   "metadata": {},
   "outputs": [
    {
     "name": "stdout",
     "output_type": "stream",
     "text": [
      "They were playing a game\n",
      "0\n",
      "File1.txt\n",
      "I are playing a game\n",
      "1\n",
      "File2.txt\n",
      "Jack were talking\n",
      "2\n",
      "File3.txt\n",
      "I were talking\n",
      "3\n",
      "File4.txt\n",
      "Jack is dancing\n",
      "4\n",
      "File5.txt\n"
     ]
    }
   ],
   "source": [
    "path=\"C:/Users/user/Desktop/Files/\"\n",
    "i=0\n",
    "for Line in LIST_String:\n",
    "    print(Line)\n",
    "    print(i)\n",
    "    i=i+1\n",
    "    filename=\"File\"+str(i)+\".txt\"\n",
    "    pathfilename=path+filename\n",
    "    print(filename)\n",
    "    with open (pathfilename , 'w') as f:\n",
    "        f.write(Line)\n",
    "    "
   ]
  },
  {
   "cell_type": "code",
   "execution_count": null,
   "metadata": {},
   "outputs": [],
   "source": []
  }
 ],
 "metadata": {
  "interpreter": {
   "hash": "5d87b42201e74ac320bc00dce267d44f5f134edfec9046f67f672f289707ff6a"
  },
  "kernelspec": {
   "display_name": "Python 3.7.7 64-bit",
   "name": "python3"
  },
  "language_info": {
   "codemirror_mode": {
    "name": "ipython",
    "version": 3
   },
   "file_extension": ".py",
   "mimetype": "text/x-python",
   "name": "python",
   "nbconvert_exporter": "python",
   "pygments_lexer": "ipython3",
   "version": "3.7.7"
  }
 },
 "nbformat": 4,
 "nbformat_minor": 2
}
